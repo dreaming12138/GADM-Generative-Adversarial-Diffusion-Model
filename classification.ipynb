{
 "cells": [
  {
   "cell_type": "code",
   "execution_count": null,
   "metadata": {},
   "outputs": [],
   "source": [
    "import os\n",
    "os.environ['KMP_DUPLICATE_LIB_OK']='True'\n",
    "\n",
    "import numpy as np\n",
    "import torch\n",
    "import random\n",
    "import torch.nn as nn\n",
    "import torch.nn.functional as F\n",
    "from matplotlib import pyplot as plt\n",
    "import pandas as pd\n",
    "from sklearn.model_selection import train_test_split\n",
    "from sklearn.metrics import precision_recall_fscore_support\n",
    "from sklearn.preprocessing import StandardScaler\n",
    "# 导入实现K折交叉检验的模块\n",
    "from sklearn.model_selection import KFold\n",
    "import warnings\n",
    "warnings.filterwarnings(\"ignore\")\n",
    "\n",
    "from sklearn import manifold, datasets\n"
   ]
  },
  {
   "cell_type": "code",
   "execution_count": null,
   "metadata": {},
   "outputs": [],
   "source": [
    "\n",
    "seed_value = 2021   # 设定随机数种子\n",
    "\n",
    "np.random.seed(seed_value)\n",
    "random.seed(seed_value)\n",
    "os.environ['PYTHONHASHSEED'] = str(seed_value)  # 为了禁止hash随机化，使得实验可复现。\n",
    "\n",
    "torch.manual_seed(seed_value)     # 为CPU设置随机种子\n",
    "torch.cuda.manual_seed(seed_value)      # 为当前GPU设置随机种子（只用一块GPU）\n",
    "torch.cuda.manual_seed_all(seed_value)   # 为所有GPU设置随机种子（多块GPU）\n",
    "\n",
    "torch.backends.cudnn.deterministic = True\n"
   ]
  },
  {
   "cell_type": "code",
   "execution_count": null,
   "metadata": {},
   "outputs": [],
   "source": [
    "#选择填充方式pad_0或者interp\n",
    "pad_pattern='pad_0'\n",
    "dataset=pd.read_csv('./data/'+pad_pattern+'/classify.csv')\n",
    "data_diffusion_withoutgan_norm=pd.read_csv('./data/'+pad_pattern+'/diffusion_norm.csv')\n",
    "data_diffusion_withoutgan=pd.read_csv('./data/'+pad_pattern+'/diffusion.csv')\n",
    "\n",
    "\n",
    "# data_diffusion_withoutgan_norm=pd.read_csv('../脉搏/data/hypertensionData/wgan_generated_norm.csv')\n",
    "# #在data_diffusion_withoutgan_norm后面拼上0\n",
    "# data_diffusion_withoutgan_norm['56']=0\n",
    "# data_diffusion_withoutgan=pd.read_csv('../脉搏/data/hypertensionData/wgan_generated.csv')\n",
    "# data_diffusion_withoutgan['56']=1\n",
    "\n"
   ]
  },
  {
   "cell_type": "code",
   "execution_count": null,
   "metadata": {},
   "outputs": [],
   "source": [
    "data=np.array(dataset)\n",
    "for i in data:\n",
    "    if i[-1]==1:\n",
    "        plt.plot(i)\n",
    "        break"
   ]
  },
  {
   "cell_type": "code",
   "execution_count": null,
   "metadata": {},
   "outputs": [],
   "source": [
    "data[0]"
   ]
  },
  {
   "cell_type": "code",
   "execution_count": null,
   "metadata": {},
   "outputs": [],
   "source": [
    "label=dataset.iloc[:,-1]\n",
    "#取前面的列\n",
    "data=dataset.iloc[:,:-1]\n",
    "#取出所有标签为1的数据\n",
    "data_0=data[label==1]\n",
    "gen_data=data_diffusion_withoutgan.iloc[:,:-1]\n",
    "#把data_0和gen_data[:500]拼接起来\n",
    "data_0=pd.concat([data_0,gen_data[:500]],axis=0)\n",
    "data_0.shape"
   ]
  },
  {
   "cell_type": "code",
   "execution_count": null,
   "metadata": {},
   "outputs": [],
   "source": [
    "data_1=np.array(data_0)\n",
    "plt.plot(data_1[503])"
   ]
  },
  {
   "cell_type": "code",
   "execution_count": null,
   "metadata": {},
   "outputs": [],
   "source": [
    "from scipy.stats import ttest_ind\n",
    "v1=data_1[0:500]\n",
    "v2=data_1[500:]\n",
    "p=0\n",
    "f=0\n",
    "for i in range(500):\n",
    "    res=ttest_ind(v1[i],v2[i])\n",
    "    p+=res[1]\n",
    "    f+=res[0]\n",
    "\n",
    "f/500"
   ]
  },
  {
   "cell_type": "code",
   "execution_count": null,
   "metadata": {},
   "outputs": [],
   "source": [
    "p/500"
   ]
  },
  {
   "cell_type": "code",
   "execution_count": null,
   "metadata": {},
   "outputs": [],
   "source": [
    "\n",
    "tsne = manifold.TSNE(n_components=2)\n",
    "X_tsne = tsne.fit_transform(data_0)"
   ]
  },
  {
   "cell_type": "code",
   "execution_count": null,
   "metadata": {},
   "outputs": [],
   "source": [
    "x_min, x_max = X_tsne.min(0), X_tsne.max(0)\n",
    "X_norm = (X_tsne - x_min) / (x_max - x_min)  # 归一化\n",
    "\n",
    "#隐藏坐标轴\n",
    "plt.xticks([])\n",
    "plt.yticks([])\n",
    "\n",
    "n=0\n",
    "m=0\n",
    "for i in range(X_norm.shape[0]):\n",
    "    #label为0和1的各画500个\n",
    "    if i<500:\n",
    "        n+=1\n",
    "        plt.scatter(X_norm[i, 0], X_norm[i, 1],color='red',alpha=0.5)\n",
    "    else:\n",
    "        m+=1\n",
    "        plt.scatter(X_norm[i, 0], X_norm[i, 1],color='blue',alpha=0.5)"
   ]
  },
  {
   "cell_type": "code",
   "execution_count": null,
   "metadata": {},
   "outputs": [],
   "source": [
    "#选择训练方式\n",
    "train=['real','generate','real_gneerate']\n",
    "train_way=train[2]\n",
    "train_way"
   ]
  },
  {
   "cell_type": "code",
   "execution_count": null,
   "metadata": {},
   "outputs": [],
   "source": [
    "def get_dataset(train_way,dataset,data_diffusion_withoutgan_norm,data_diffusion_withoutgan):\n",
    "    #取最后一列\n",
    "    label=dataset.iloc[:,-1]\n",
    "    #取前面的列\n",
    "    data=dataset.iloc[:,:-1]\n",
    "    data=np.array(data)\n",
    "    label=np.array(label)\n",
    "    #划分测试机和训练集\n",
    "    train_x,test_x,train_y,test_y=train_test_split(data,label,test_size=0.2,random_state=0)\n",
    "    \n",
    "    if train_way=='real':\n",
    "        pass\n",
    "    elif train_way=='generate':\n",
    "        #开始拼接\n",
    "        label_diffusion=data_diffusion_withoutgan.iloc[:,-1]\n",
    "        data_diffusion=data_diffusion_withoutgan.iloc[:,:-1]\n",
    "        label_diffusion=np.array(label_diffusion)\n",
    "        data_diffusion=np.array(data_diffusion)\n",
    "\n",
    "        #开始拼接\n",
    "        label_diffusion_norm=data_diffusion_withoutgan_norm.iloc[:,-1]\n",
    "        data_diffusion_norm=data_diffusion_withoutgan_norm.iloc[:,:-1]\n",
    "        label_diffusion_norm=np.array(label_diffusion_norm)\n",
    "        data_diffusion_norm=np.array(data_diffusion_norm)\n",
    "\n",
    "        #把train和diffusion拼接\n",
    "        train_x=np.concatenate((data_diffusion_norm[:10000],data_diffusion[:10000]),axis=0)\n",
    "        train_y=np.concatenate((label_diffusion_norm[:10000],label_diffusion[:10000]),axis=0)\n",
    "    elif train_way=='real_gneerate':\n",
    "        #开始拼接\n",
    "        label_diffusion=data_diffusion_withoutgan.iloc[:,-1]\n",
    "        data_diffusion=data_diffusion_withoutgan.iloc[:,:-1]\n",
    "        label_diffusion=np.array(label_diffusion)\n",
    "        data_diffusion=np.array(data_diffusion)\n",
    "\n",
    "        #开始拼接\n",
    "        label_diffusion_norm=data_diffusion_withoutgan_norm.iloc[:,-1]\n",
    "        data_diffusion_norm=data_diffusion_withoutgan_norm.iloc[:,:-1]\n",
    "        label_diffusion_norm=np.array(label_diffusion_norm)\n",
    "        data_diffusion_norm=np.array(data_diffusion_norm)\n",
    "\n",
    "        #把train和diffusion拼接\n",
    "        train_x=np.concatenate((train_x,data_diffusion[:5000]),axis=0)\n",
    "        train_y=np.concatenate((train_y,label_diffusion_norm[:5000]),axis=0)\n",
    "\n",
    "        train_x=np.concatenate((train_x,data_diffusion_norm[:5000]),axis=0)\n",
    "        train_y=np.concatenate((train_y,label_diffusion_norm[:5000]),axis=0)\n",
    "    else:\n",
    "        print('error')\n",
    "\n",
    "    print(len(train_x))\n",
    "\n",
    "    #归一化\n",
    "    scaler = StandardScaler()\n",
    "    scaler.fit(train_x)\n",
    "    train_x = scaler.transform(train_x)\n",
    "    test_x = scaler.transform(test_x)\n",
    "    \n",
    "    #转换成tensor\n",
    "    train_x=torch.tensor(train_x).float()\n",
    "    train_y=torch.tensor(train_y).float()\n",
    "    test_x=torch.tensor(test_x).float()\n",
    "    test_y=torch.tensor(test_y).float()\n",
    "\n",
    "\n",
    "    #构建数据集\n",
    "    batch_size = 256\n",
    "    train_dataset=torch.utils.data.TensorDataset(train_x,train_y)\n",
    "    test_dataset=torch.utils.data.TensorDataset(test_x,test_y)\n",
    "    #构建数据迭代器\n",
    "    train_loader=torch.utils.data.DataLoader(train_dataset,batch_size=batch_size,shuffle=True,drop_last=True)\n",
    "    test_loader=torch.utils.data.DataLoader(test_dataset,batch_size=batch_size,shuffle=True,drop_last=True)\n",
    "    return train_loader,test_loader,train_x,train_y,test_x,test_y"
   ]
  },
  {
   "cell_type": "code",
   "execution_count": null,
   "metadata": {},
   "outputs": [],
   "source": [
    "train_loader,test_loader,train_x,train_y,test_x,test_y=get_dataset(train_way,dataset,data_diffusion_withoutgan_norm,data_diffusion_withoutgan)\n",
    "\n",
    "kf = KFold(n_splits = 5)"
   ]
  },
  {
   "cell_type": "code",
   "execution_count": null,
   "metadata": {},
   "outputs": [],
   "source": [
    "#LSTM\n",
    "\n",
    "\n",
    "#输入batch,channel,length\n",
    "#输出batch,1\n",
    "class classifier(nn.Module):\n",
    "    def __init__(self):\n",
    "        super(classifier, self).__init__()\n",
    "\n",
    "        #lstm\n",
    "        self.lstm=nn.LSTM(input_size=1,hidden_size=32,num_layers=2,batch_first=True)\n",
    "        #全连接\n",
    "        self.fc=nn.Sequential(  \n",
    "            nn.Linear(32,1),\n",
    "        )\n",
    "\n",
    "    def forward(self, x):\n",
    "        x=x.unsqueeze(2)\n",
    "\n",
    "        #lstm\n",
    "        x,_=self.lstm(x)\n",
    "        #取最后一个时间步\n",
    "        x=x[:,-1,:]\n",
    "        \n",
    "        #全连接\n",
    "        x=self.fc(x)\n",
    "\n",
    "        #sigmoid\n",
    "        x=torch.sigmoid(x)\n",
    "        return x.view(-1)"
   ]
  },
  {
   "cell_type": "code",
   "execution_count": null,
   "metadata": {},
   "outputs": [],
   "source": [
    "# #CNN\n",
    "\n",
    "# #输入batch,length\n",
    "# #输出batch,\n",
    "# class classifier(nn.Module):\n",
    "#     def __init__(self):\n",
    "#         super(classifier, self).__init__()\n",
    "#         self.sequential1=nn.Sequential(\n",
    "#             nn.BatchNorm1d(1),\n",
    "#             #两层卷积一层池化\n",
    "#             nn.Conv1d(in_channels=1,out_channels=16,kernel_size=5,stride=1,padding=1),\n",
    "#             nn.BatchNorm1d(16),\n",
    "#             nn.ReLU(),\n",
    "#             nn.Conv1d(in_channels=16,out_channels=32,kernel_size=5,stride=1,padding=1),\n",
    "#             nn.BatchNorm1d(32),\n",
    "#             nn.ReLU(),\n",
    "#             nn.MaxPool1d(kernel_size=2,stride=2),\n",
    "#         )\n",
    "#         self.sequential2=nn.Sequential(\n",
    "#             #两层卷积一层池化\n",
    "#             nn.Conv1d(in_channels=32,out_channels=16,kernel_size=5,stride=1,padding=1),\n",
    "#             nn.BatchNorm1d(16),\n",
    "#             nn.ReLU(),\n",
    "#             nn.Conv1d(in_channels=16,out_channels=1,kernel_size=5,stride=1,padding=1),\n",
    "#             nn.BatchNorm1d(1),\n",
    "#             nn.ReLU(),\n",
    "#             nn.MaxPool1d(kernel_size=2,stride=2),\n",
    "#         )\n",
    "\n",
    "#         self.sequential3=nn.Sequential(\n",
    "#             nn.Linear(11,1),\n",
    "#             nn.Sigmoid()\n",
    "#         )\n",
    "\n",
    "\n",
    "#     def forward(self, x):\n",
    "#         x1=x.view(x.size(0),1,-1)\n",
    "#         x1=self.sequential1(x1)\n",
    "#         x1=self.sequential2(x1)\n",
    "#         x1 = x1.view(x1.size(0), -1)\n",
    "\n",
    "#         x = self.sequential3(x1)\n",
    "#         return x.view(-1)"
   ]
  },
  {
   "cell_type": "code",
   "execution_count": null,
   "metadata": {},
   "outputs": [],
   "source": [
    "model=classifier()\n",
    "x=torch.randn(1,56)\n",
    "x.shape\n",
    "model(x)"
   ]
  },
  {
   "cell_type": "code",
   "execution_count": null,
   "metadata": {},
   "outputs": [],
   "source": [
    "#各种超参数\n",
    "device = torch.device(\"cuda:0\" if torch.cuda.is_available() else \"cpu\")\n",
    "epochs=200\n",
    "loss_func=nn.BCELoss().to(device)\n",
    "model=classifier().to(device)\n",
    "optimizer=torch.optim.AdamW(model.parameters(),lr=0.01)"
   ]
  },
  {
   "cell_type": "code",
   "execution_count": null,
   "metadata": {},
   "outputs": [],
   "source": [
    "def train(epochs,train_loader,test_loader,model,loss_func,optimizer):\n",
    "    train_loss = []\n",
    "    train_accuracy = []\n",
    "    test_loss = []\n",
    "    test_accuracy = []\n",
    "\n",
    "    test_precision=[]\n",
    "    test_recall=[]\n",
    "    test_f1=[]\n",
    "    model.train()\n",
    "\n",
    "    for epoch in range(epochs):\n",
    "        epoch_train_loss = 0\n",
    "        epoch_train_accuracy = 0\n",
    "        \n",
    "        for i, (x, y) in enumerate(train_loader):\n",
    "            x=x.to(device)\n",
    "            y=y.to(device)\n",
    "            output = model(x)\n",
    "            loss = loss_func(output, y)\n",
    "            optimizer.zero_grad()\n",
    "            loss.backward()\n",
    "            optimizer.step()\n",
    "            accuracy = (output > 0.5).float().eq(y).sum().item() / len(y)\n",
    "            \n",
    "            epoch_train_loss += loss.item()\n",
    "            epoch_train_accuracy += accuracy\n",
    "            \n",
    "        epoch_train_loss /= len(train_loader)\n",
    "        epoch_train_accuracy /= len(train_loader)\n",
    "        train_loss.append(epoch_train_loss)\n",
    "        train_accuracy.append(epoch_train_accuracy)\n",
    "        \n",
    "        print('epoch:{}, train_loss:{}, train_accuracy:{}'.format(epoch, epoch_train_loss, epoch_train_accuracy))\n",
    "        \n",
    "        with torch.no_grad():\n",
    "            epoch_test_loss = 0\n",
    "            epoch_test_accuracy = 0\n",
    "            y_true=[]\n",
    "            y_pred=[]\n",
    "\n",
    "            for i, (x, y) in enumerate(test_loader):\n",
    "                x=x.to(device)\n",
    "                y=y.to(device)\n",
    "                output = model(x)\n",
    "                loss = loss_func(output, y)\n",
    "                \n",
    "                accuracy = (output > 0.5).float().eq(y).sum().item() / len(y)\n",
    "                epoch_test_loss += loss.item()\n",
    "                epoch_test_accuracy += accuracy\n",
    "                y_true.extend(y.cpu().numpy())\n",
    "                y_pred.extend(output.cpu().numpy()>0.5)\n",
    "\n",
    "            precision, recall, f1 = precision_recall_fscore_support(y_true,y_pred,average='macro')[:-1]\n",
    "            test_precision.append(precision)\n",
    "            test_recall.append(recall)\n",
    "            test_f1.append(f1)\n",
    "            epoch_test_loss /= len(test_loader)\n",
    "            epoch_test_accuracy /= len(test_loader)\n",
    "            \n",
    "            test_loss.append(epoch_test_loss)\n",
    "            test_accuracy.append(epoch_test_accuracy)\n",
    "            \n",
    "            print('epoch:{}, test_loss:{}, test_accuracy:{}'.format(epoch, epoch_test_loss, epoch_test_accuracy))\n",
    "    return train_loss,train_accuracy,test_loss,test_accuracy,test_precision,test_recall,test_f1\n"
   ]
  },
  {
   "cell_type": "code",
   "execution_count": null,
   "metadata": {},
   "outputs": [],
   "source": [
    "train_loss,train_accuracy,test_loss,test_accuracy,test_precision,test_recall,test_f1=train(epochs,train_loader,test_loader,model,loss_func,optimizer)"
   ]
  },
  {
   "cell_type": "code",
   "execution_count": null,
   "metadata": {},
   "outputs": [],
   "source": [
    "test_accuracy[-1]"
   ]
  },
  {
   "cell_type": "code",
   "execution_count": null,
   "metadata": {},
   "outputs": [],
   "source": [
    "test_precision[-1]"
   ]
  },
  {
   "cell_type": "code",
   "execution_count": null,
   "metadata": {},
   "outputs": [],
   "source": [
    "test_recall[-1]"
   ]
  },
  {
   "cell_type": "code",
   "execution_count": null,
   "metadata": {},
   "outputs": [],
   "source": [
    "test_f1[-1]"
   ]
  }
 ],
 "metadata": {
  "kernelspec": {
   "display_name": "base",
   "language": "python",
   "name": "python3"
  },
  "language_info": {
   "codemirror_mode": {
    "name": "ipython",
    "version": 3
   },
   "file_extension": ".py",
   "mimetype": "text/x-python",
   "name": "python",
   "nbconvert_exporter": "python",
   "pygments_lexer": "ipython3",
   "version": "3.8.19"
  },
  "orig_nbformat": 4
 },
 "nbformat": 4,
 "nbformat_minor": 2
}
